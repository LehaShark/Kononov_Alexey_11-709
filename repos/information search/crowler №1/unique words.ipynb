{
 "cells": [
  {
   "cell_type": "code",
   "execution_count": 10,
   "metadata": {},
   "outputs": [
    {
     "data": {
      "text/plain": [
       "9555"
      ]
     },
     "execution_count": 10,
     "metadata": {},
     "output_type": "execute_result"
    }
   ],
   "source": [
    "token_txt = open(f'tokenization.txt','r', encoding=\"utf-8\")\n",
    "str1 = token_txt.read()\n",
    "words = str1.split()\n",
    "str2 = \" \".join(sorted(set(words), key=words.index))\n",
    "twr = open(f'tokenization_without_repeat.txt','w', encoding=\"utf-8\")\n",
    "twr.write(str2)\n",
    "token_txt.close()\n",
    "twr.close()"
   ]
  },
  {
   "cell_type": "code",
   "execution_count": 8,
   "metadata": {},
   "outputs": [
    {
     "name": "stdout",
     "output_type": "stream",
     "text": [
      "calvin klein design dress\n"
     ]
    }
   ],
   "source": [
    "def uniquify(string):\n",
    "    output = []\n",
    "    seen = set()\n",
    "    for word in string.split():\n",
    "        if word not in seen:\n",
    "            output.append(word)\n",
    "            seen.add(word)\n",
    "    return ' '.join(output)\n",
    "\n",
    "        \n",
    "    \n",
    "token_txt = open(f'tokenization.txt','r', encoding=\"utf-8\")\n",
    "str1 = token_txt.read()\n",
    "str2 = uniquify(str1)\n",
    "twr = open(f'tokenization_without_repeat.txt','w', encoding=\"utf-8\")\n",
    "twr.write(str2)\n",
    "token_txt.close()"
   ]
  },
  {
   "cell_type": "code",
   "execution_count": null,
   "metadata": {},
   "outputs": [],
   "source": []
  }
 ],
 "metadata": {
  "kernelspec": {
   "display_name": "Python 3",
   "language": "python",
   "name": "python3"
  },
  "language_info": {
   "codemirror_mode": {
    "name": "ipython",
    "version": 3
   },
   "file_extension": ".py",
   "mimetype": "text/x-python",
   "name": "python",
   "nbconvert_exporter": "python",
   "pygments_lexer": "ipython3",
   "version": "3.8.5"
  }
 },
 "nbformat": 4,
 "nbformat_minor": 4
}
