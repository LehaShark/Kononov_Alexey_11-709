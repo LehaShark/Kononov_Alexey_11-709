{
 "cells": [
  {
   "cell_type": "code",
   "execution_count": null,
   "metadata": {},
   "outputs": [],
   "source": [
    "import nltk\n",
    "import os\n",
    "import string\n",
    "import spacy \n",
    "from nltk.stem.wordnet import WordNetLemmatizer\n",
    "from nltk.corpus import stopwords\n",
    "import re\n",
    "from  more_itertools import unique_everseen\n",
    "\n",
    "nlp = spacy.load(\"en_core_web_sm\")\n",
    "#nltk.download('punkt') #Необходимо для первого запуска.\n",
    "\n",
    "\n",
    "def make_ivert_list(file):\n",
    "    words = file.readlines()\n",
    "    lemmas = []\n",
    "    for word in words:\n",
    "        lemma = nlp(word)[0].lemma_\n",
    "        if lemma not in lemmas:\n",
    "            lemmas.append(lemma)\n",
    "    dir = 'all_text/'\n",
    "    filelist = os.listdir(dir)\n",
    "    invert_dict = {}\n",
    "    count = 0\n",
    "    for i in filelist:\n",
    "        file = open(os.path.join('all_text/'+ i), 'r', encoding=\"utf-8\")\n",
    "        text = file.read()\n",
    "        text = text.lower()\n",
    "        r = re.compile(\"^[a-z]+$\") \n",
    "        nltk_words = nltk.word_tokenize(text)\n",
    "        nltk_words = [word for word in filter(r.match, nltk_words)] #Удаление не английских слов.\n",
    "        for nltk_word in nltk_words:\n",
    "            lemma = nlp(nltk_word)[0].lemma_\n",
    "            if lemma in invert_dict:\n",
    "                if count not in invert_dict[lemma]:\n",
    "                    invert_dict[lemma].append(count)\n",
    "            else:\n",
    "                invert_dict[lemma] = [count]\n",
    "        count += 1\n",
    "    with open('invert_list.txt','w', encoding=\"utf-8\") as file:\n",
    "        for key,val in invert_dict.items():\n",
    "            file.write('\\n{} '.format(key))\n",
    "            for item in val:\n",
    "                file.write('{} '.format(item))\n",
    "        \n",
    "if __name__ == \"__main__\":\n",
    "    \n",
    "    #Создание списка.\n",
    "    token_txt = open(f'tokenization.txt','r', encoding=\"utf-8\")\n",
    "    make_ivert_list(token_txt)\n",
    "    token_txt.close()\n",
    "    \n",
    "    print(\"Done.\")\n",
    "        "
   ]
  },
  {
   "cell_type": "code",
   "execution_count": null,
   "metadata": {},
   "outputs": [],
   "source": []
  }
 ],
 "metadata": {
  "kernelspec": {
   "display_name": "Python 3",
   "language": "python",
   "name": "python3"
  },
  "language_info": {
   "codemirror_mode": {
    "name": "ipython",
    "version": 3
   },
   "file_extension": ".py",
   "mimetype": "text/x-python",
   "name": "python",
   "nbconvert_exporter": "python",
   "pygments_lexer": "ipython3",
   "version": "3.8.5"
  }
 },
 "nbformat": 4,
 "nbformat_minor": 5
}
