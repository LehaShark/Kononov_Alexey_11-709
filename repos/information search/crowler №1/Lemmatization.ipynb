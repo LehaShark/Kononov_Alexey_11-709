{
 "cells": [
  {
   "cell_type": "code",
   "execution_count": null,
   "metadata": {},
   "outputs": [],
   "source": [
    "import nltk\n",
    "import os\n",
    "import string\n",
    "import spacy \n",
    "from nltk.stem.wordnet import WordNetLemmatizer\n",
    "from nltk.corpus import stopwords\n",
    "\n",
    "#nltk.download('punkt') #Необходимо для первого запуска.\n",
    "\n",
    "\n",
    "def tokenization(file, destination):\n",
    "    stop_words = set(stopwords.words(\"english\"))\n",
    "    text = file.read()\n",
    "    text = text.lower()\n",
    "    words = nltk.word_tokenize(text)\n",
    "    words = [i for i in words if ( i not in string.punctuation )] #Удаление знаков пунктуации.\n",
    "    words = [word for word in words if not word in stop_words] #Удаление стоп-слов.\n",
    "    words=[word.lower() for word in words if word.isalpha()] #Удаление\n",
    "    for word in words:\n",
    "        destination.write(f'{word}\\n')  \n",
    "\n",
    "def lemmatization(origin):\n",
    "    text = origin.read()\n",
    "    words = nltk.word_tokenize(text)\n",
    "    lemmas = {}\n",
    "    for word in words:\n",
    "        nlp_word = nlp(word)\n",
    "        word_lemma = nlp_word[0].lemma_\n",
    "        if word_lemma in lemmas:\n",
    "            lemmas[word_lemma].append(word)\n",
    "        else:\n",
    "            lemmas[word_lemma] = [word]\n",
    "    with open('lemmatization.txt','w', encoding=\"utf-8\") as file:\n",
    "        for key,val in lemmas.items():\n",
    "            file.write('\\n{} '.format(key))\n",
    "        \n",
    "if name == \"main\":\n",
    "    \n",
    "    #Токенизация.\n",
    "    token_txt = open(f'tokenization.txt','w', encoding=\"utf-8\")\n",
    "    dir = 'all_text/'\n",
    "    filelist = os.listdir(dir)\n",
    "    for i in filelist:\n",
    "        file = open(os.path.join('all_text/'+ i), 'r', encoding=\"utf-8\")\n",
    "        tokenization(file, token_txt)\n",
    "        file.close()\n",
    "    token_txt.close()\n",
    "    \n",
    "    #Лемматизация.\n",
    "    nlp = spacy.load(\"en_core_web_sm\")\n",
    "    lemmatizer = WordNetLemmatizer()\n",
    "    token_txt = open(f'lemmatization.txt','r', encoding=\"utf-8\")\n",
    "    lemmatization(token_txt)\n",
    "    token_txt.close()\n",
    "    \n",
    "    print(\"Done.\")"
   ]
  }
 ],
 "metadata": {
  "kernelspec": {
   "display_name": "Python 3",
   "language": "python",
   "name": "python3"
  },
  "language_info": {
   "codemirror_mode": {
    "name": "ipython",
    "version": 3
   },
   "file_extension": ".py",
   "mimetype": "text/x-python",
   "name": "python",
   "nbconvert_exporter": "python",
   "pygments_lexer": "ipython3",
   "version": "3.8.5"
  }
 },
 "nbformat": 4,
 "nbformat_minor": 4
}
