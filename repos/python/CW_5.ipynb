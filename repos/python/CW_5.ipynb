{
 "cells": [
  {
   "cell_type": "code",
   "execution_count": 1,
   "metadata": {},
   "outputs": [],
   "source": [
    "import numpy as np\n"
   ]
  },
  {
   "cell_type": "code",
   "execution_count": 11,
   "metadata": {},
   "outputs": [
    {
     "name": "stdout",
     "output_type": "stream",
     "text": [
      "[['Анастасий' '0']\n",
      " ['Даная' '1']\n",
      " ['Андроника' '1']\n",
      " ...\n",
      " ['Януарий' '0']\n",
      " ['Викентия' '1']\n",
      " ['Гораций' '0']]\n"
     ]
    }
   ],
   "source": [
    "dataset = np.empty((0,2))\n",
    "\n",
    "with open('data/male.txt', 'r', encoding = 'utf-8') as file:\n",
    "    lines = file.readlines()\n",
    "    for line in lines:\n",
    "        #print(line)\n",
    "        dataset = np.append(dataset, [[line[:-1], 0]], axis=0)\n",
    "\n",
    "with open('data/female.txt', 'r', encoding = 'utf-8') as file:\n",
    "    lines = file.readlines()\n",
    "    for line in lines:\n",
    "        #print(line)\n",
    "        dataset = np.append(dataset, [[line[:-1], 1]], axis=0)\n",
    "dataset = np.random.permutation(dataset)\n",
    "print(dataset)"
   ]
  },
  {
   "cell_type": "code",
   "execution_count": 21,
   "metadata": {},
   "outputs": [
    {
     "data": {
      "text/plain": [
       "({'0': 0.0007462686567164179}, {('Анастасий', '0'): 9.0})"
      ]
     },
     "execution_count": 21,
     "metadata": {},
     "output_type": "execute_result"
    }
   ],
   "source": [
    "def fit(dataset):\n",
    "    classes, freq = {}, {}\n",
    "    for features, label in dataset:\n",
    "        if label not in classes:\n",
    "            classes[label] = 0\n",
    "        classes[label] += 1\n",
    "        for feature in features:\n",
    "            if (features, label) not in freq:\n",
    "                freq[(features, label)] =0\n",
    "            freq[(features, label)] += 1\n",
    "            \n",
    "        for feature, label in freq:\n",
    "            freq[(feature, label)] /= classes[label]\n",
    "        for cl in classes:\n",
    "            classes[cl] /= len(dataset)\n",
    "        \n",
    "        return classes, freq\n",
    "    \n",
    "import math \n",
    "\n",
    "def  classify(classifier, features):\n",
    "    classes, freq = classifier\n",
    "    return max(classes, keys(),\\\n",
    "              key = lambda cl: math.log10(classes[cl]) +\\\n",
    "                sum(math.log10(freq.get((feature, cl), 10**(-7)))\\\n",
    "                    for feature in features))\n",
    "    classifier = fit(dataset)\n",
    "    classify(classifier, 'Ярослав')\n",
    "    \n",
    "    \n",
    "fit(dataset)"
   ]
  },
  {
   "cell_type": "code",
   "execution_count": null,
   "metadata": {},
   "outputs": [],
   "source": []
  }
 ],
 "metadata": {
  "kernelspec": {
   "display_name": "Python 3",
   "language": "python",
   "name": "python3"
  },
  "language_info": {
   "codemirror_mode": {
    "name": "ipython",
    "version": 3
   },
   "file_extension": ".py",
   "mimetype": "text/x-python",
   "name": "python",
   "nbconvert_exporter": "python",
   "pygments_lexer": "ipython3",
   "version": "3.8.5"
  }
 },
 "nbformat": 4,
 "nbformat_minor": 4
}
