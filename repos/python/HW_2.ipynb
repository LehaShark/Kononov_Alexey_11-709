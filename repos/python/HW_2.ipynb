{
 "cells": [
  {
   "cell_type": "code",
   "execution_count": 30,
   "metadata": {},
   "outputs": [],
   "source": [
    "import matplotlib.pyplot as plt\n",
    "import math\n",
    "from skimage import io, color\n",
    "from skimage.transform import resize\n",
    "import numpy as np\n"
   ]
  },
  {
   "cell_type": "code",
   "execution_count": 49,
   "metadata": {},
   "outputs": [],
   "source": [
    "def make_superPixel(h, w,img):\n",
    "    return SuperPixels(h, w,img[h,w][0],img[h,w][1],img[h,w][2])\n",
    "\n"
   ]
  },
  {
   "cell_type": "code",
   "execution_count": 50,
   "metadata": {},
   "outputs": [],
   "source": [
    "def initial_cluster_center(S,img,img_h,img_w,clusters):\n",
    "    h = S // 2\n",
    "    w = S // 2\n",
    "    while h < img_h:\n",
    "        while w < img_w:\n",
    "            clusters.append(make_superPixel(h, w,img))\n",
    "            w += S\n",
    "        w = S // 2\n",
    "        h += S\n",
    "    return clusters"
   ]
  },
  {
   "cell_type": "code",
   "execution_count": 51,
   "metadata": {},
   "outputs": [],
   "source": [
    "def calc_gradient(h, w,img,img_w,img_h):\n",
    "    if w + 1 >= img_w:\n",
    "        w = img_w - 2\n",
    "    if h + 1 >= img_h:\n",
    "        h = img_h - 2\n",
    "    grad = img[w + 1, h + 1][0] - img[w, h][0] + img[w + 1, h + 1][1] - img[w, h][1] + img[w + 1, h + 1][2] - img[w, h][2]\n",
    "    return grad\n"
   ]
  },
  {
   "cell_type": "code",
   "execution_count": 52,
   "metadata": {},
   "outputs": [],
   "source": [
    "def reassign_cluster_center_acc_to_grad(clusters,img):\n",
    "    for c in clusters:\n",
    "        cluster_gradient = calc_gradient(c.h, c.w,img,img_w,img_h)\n",
    "        for dh in range(-1, 2):\n",
    "            for dw in range(-1, 2):\n",
    "                H = c.h + dh\n",
    "                W = c.w + dw\n",
    "                new_gradient = calc_gradient(H,W, img,img_w,img_h)\n",
    "                if new_gradient < cluster_gradient:\n",
    "                    c.update(H, W,img[H,W][0], img[H,W][1],img[H,W][2])\n",
    "                    c_gradient = new_gradient                  "
   ]
  },
  {
   "cell_type": "code",
   "execution_count": 53,
   "metadata": {},
   "outputs": [],
   "source": [
    "#Евклидово расстояние между точками\n",
    "def assign_pixels_to_cluster(clusters,S,img,img_h,img_w,tag,dis):\n",
    "    for c in clusters:\n",
    "        for h in range(c.h - 2 * S, c.h + 2 * S):\n",
    "            if h < 0 or h >= img_h: continue\n",
    "            for w in range(c.w - 2 * S, c.w + 2 * S):\n",
    "                if w < 0 or w >= img_w: continue\n",
    "                l, a, b = img[h,w]\n",
    "                Dc = math.sqrt(math.pow(l - c.l, 2) + math.pow(a - c.a, 2) + math.pow(b - c.b, 2))\n",
    "                Ds = math.sqrt(math.pow(h - c.h, 2) + math.pow(w - c.w, 2))\n",
    "                D = math.sqrt(math.pow(Dc / m, 2) + math.pow(Ds /S, 2))\n",
    "                if D < dis[h,w]:\n",
    "                    if (h, w) not in tag:\n",
    "                        tag[(h, w)] = c\n",
    "                        c.pixels.append((h, w))\n",
    "                    else:\n",
    "                        tag[(h, w)].pixels.remove((h, w))\n",
    "                        tag[(h, w)] = c\n",
    "                        c.pixels.append((h, w))\n",
    "                    dis[h, w] = D"
   ]
  },
  {
   "cell_type": "code",
   "execution_count": 54,
   "metadata": {},
   "outputs": [],
   "source": [
    "def update_cluster_mean(clusters):\n",
    "    for c in clusters:\n",
    "        sum_h = sum_w = number = 0\n",
    "        for p in c.pixels:\n",
    "            sum_h += p[0]\n",
    "            sum_w += p[1]\n",
    "            number += 1\n",
    "            H = sum_h // number\n",
    "            W = sum_w // number\n",
    "            c.update(H, W,img[H, W][0], img[H, W][1], img[H, W][2])\n",
    "            \n"
   ]
  },
  {
   "cell_type": "code",
   "execution_count": 55,
   "metadata": {},
   "outputs": [],
   "source": [
    "def avg_color_cluster(img,name,clusters):\n",
    "    image = np.copy(img)\n",
    "    for c in clusters:\n",
    "        for p in c.pixels:\n",
    "            image[p[0],p[1]][0] = c.l\n",
    "            image[p[0],p[1]][1] = c.a\n",
    "            image[p[0],p[1]][2] = c.b\n",
    "\n",
    "        image[c.h, c.w][0] = 0\n",
    "        image[c.h, c.w][1] = 0\n",
    "        image[c.h, c.w][2] = 0\n",
    "    lab2rgb(name, image)"
   ]
  },
  {
   "cell_type": "code",
   "execution_count": 56,
   "metadata": {},
   "outputs": [],
   "source": [
    "def slic(S,img,img_h,img_w,clusters,tag,dis):\n",
    "    clusters = initial_cluster_center(S,img,img_h,img_w,clusters)\n",
    "    reassign_cluster_center_acc_to_grad(clusters,img)\n",
    "    for i in range(10):\n",
    "        assign_pixels_to_cluster(clusters,S,img,img_h,img_w,tag,dis)\n",
    "        update_cluster_mean(clusters)\n",
    "        if i == 9 :\n",
    "            name = 'NEW_Simple.png'\n",
    "            avg_color_cluster(img,name, clusters)\n",
    "    return clusters\n",
    "\n"
   ]
  },
  {
   "cell_type": "code",
   "execution_count": 88,
   "metadata": {},
   "outputs": [],
   "source": [
    "def lab2rgb(path, lab_arr):\n",
    "    rgb_arr = color.lab2rgb(lab_arr)\n",
    "    plt.imshow(rgb_arr)\n",
    "    plt.show()\n",
    "    \n",
    "class SuperPixels(object):\n",
    "\n",
    "    def __init__(self, h, w, l=0, a=0, b=0):\n",
    "        self.update(h, w, l, a, b)\n",
    "        self.pixels = []\n",
    "\n",
    "    def update(self, h, w, l, a, b):\n",
    "        self.h = h\n",
    "        self.w = w\n",
    "        self.l = l\n",
    "        self.a = a\n",
    "        self.b = b\n",
    "        \n"
   ]
  },
  {
   "cell_type": "code",
   "execution_count": 89,
   "metadata": {},
   "outputs": [
    {
     "name": "stdout",
     "output_type": "stream",
     "text": [
      "(481, 321, 3)\n"
     ]
    }
   ],
   "source": [
    "rgb = io.imread(\"data/3.jpg\",plugin='matplotlib')\n",
    "print(rgb.shape)\n",
    "\n"
   ]
  },
  {
   "cell_type": "code",
   "execution_count": 90,
   "metadata": {},
   "outputs": [
    {
     "name": "stdout",
     "output_type": "stream",
     "text": [
      "(400, 400, 3)\n"
     ]
    }
   ],
   "source": [
    "img = resize(rgb, (400,400),anti_aliasing=True)\n",
    "print(img.shape)\n",
    "\n"
   ]
  },
  {
   "cell_type": "code",
   "execution_count": 91,
   "metadata": {},
   "outputs": [],
   "source": [
    "img = color.rgb2lab(img)\n",
    "\n"
   ]
  },
  {
   "cell_type": "code",
   "execution_count": 85,
   "metadata": {},
   "outputs": [],
   "source": [
    "k = 160 \n",
    "m = 15   \n",
    "\n",
    "img_h = img.shape[0] \n",
    "img_w = img.shape[1] \n",
    "\n",
    "N = img_h * img_w  \n",
    "S = int(math.sqrt(N /k)) \n",
    "\n"
   ]
  },
  {
   "cell_type": "code",
   "execution_count": 86,
   "metadata": {},
   "outputs": [],
   "source": [
    "clusters = []\n",
    "tag = {}\n",
    "dis = np.full((img_h, img_w), np.inf)\n",
    "\n",
    "\n"
   ]
  },
  {
   "cell_type": "code",
   "execution_count": 87,
   "metadata": {},
   "outputs": [
    {
     "data": {
      "image/png": "[encoded data removed]",
      "text/plain": [
       "<Figure size 432x288 with 1 Axes>"
      ]
     },
     "metadata": {
      "needs_background": "light"
     },
     "output_type": "display_data"
    }
   ],
   "source": [
    "cluster = slic(S,img,img_h,img_w,clusters,tag,dis)\n",
    "\n",
    "\n"
   ]
  },
  {
   "cell_type": "code",
   "execution_count": 39,
   "metadata": {},
   "outputs": [
    {
     "name": "stdout",
     "output_type": "stream",
     "text": [
      "H 22 : W 21, l 20.246887223312193, a -4.988418211778783, b 2.272747224071192\n",
      "H 19 : W 61, l 12.701210066386516, a -4.689437413154335, b -5.355633005962623\n",
      "H 18 : W 99, l 15.981539365718483, a -9.011334678782761, b -1.6050234085744908\n",
      "H 21 : W 140, l 26.006315109729364, a -9.592653996837285, b 4.285194082208621\n",
      "H 19 : W 180, l 21.504530880563237, a -7.357784802780848, b 1.608747774016872\n",
      "H 26 : W 221, l 19.340420420735583, a -10.902221910671056, b 6.377899065091663\n",
      "H 24 : W 266, l 24.246141549725948, a -7.612123892668299, b 4.472214030655275\n",
      "H 22 : W 303, l 37.965534214406716, a -1.524425238680155, b 11.724408387395568\n",
      "H 17 : W 335, l 27.36023808769386, a -7.522032094533559, b 7.6961574113333375\n",
      "H 18 : W 379, l 19.475623704399943, a -13.131334997813521, b 3.8453201965385597\n",
      "H 68 : W 16, l 31.478111807878904, a -2.0583304875380906, b 7.494392164142472\n",
      "H 59 : W 52, l 28.949385354261807, a -1.8959136538416466, b 6.618065375372495\n",
      "H 56 : W 95, l 19.741661685462986, a -6.25244786435164, b 1.713497129919972\n",
      "H 61 : W 136, l 24.79004676868493, a -3.782634117692363, b 8.393568474415858\n",
      "H 58 : W 177, l 28.09777266503847, a -9.20176999056077, b 10.219478706432206\n",
      "H 67 : W 216, l 28.095859284314763, a -12.694032780887877, b 13.447638182926337\n",
      "H 67 : W 259, l 37.4130178860083, a -0.695886406421653, b 11.455647413913939\n",
      "H 64 : W 299, l 33.31292902796823, a -9.25122113835064, b 14.720678339366033\n",
      "H 59 : W 336, l 25.368982310977877, a -17.07229627518872, b 9.622689025364028\n",
      "H 51 : W 375, l 21.37289614826961, a -11.64300278560393, b 4.955501166261856\n",
      "H 108 : W 19, l 34.25260906497662, a -1.73148197117598, b 8.154912543085402\n",
      "H 100 : W 60, l 29.21694176128497, a -3.180354708126276, b 5.006155131973755\n",
      "H 104 : W 99, l 23.99619894279075, a -6.163979181374568, b 3.8188247403883047\n",
      "H 104 : W 139, l 32.5390040182942, a -4.7885724354332915, b 6.94236044409815\n",
      "H 103 : W 181, l 47.18399920678604, a -6.184721559998552, b 17.587598910135714\n",
      "H 102 : W 220, l 33.09815170147741, a -1.6677320978417398, b 13.349795645455231\n",
      "H 102 : W 261, l 27.932337541370934, a -16.373319732159498, b 14.643080550721699\n",
      "H 106 : W 300, l 20.08555534857956, a -11.520042303943988, b 5.021460167358693\n",
      "H 98 : W 337, l 24.94523599303062, a -15.638073313177486, b 10.579417728086682\n",
      "H 89 : W 379, l 21.10438855652295, a -13.21674970637271, b 9.365345445932128\n",
      "H 136 : W 20, l 39.80091579771383, a -5.564007546729643, b -1.887093496402259\n",
      "H 134 : W 66, l 55.9825929899736, a 5.228335814287222, b 1.9057758641104927\n",
      "H 142 : W 98, l 81.39654703194508, a 18.526505185763487, b 20.388000586011334\n",
      "H 158 : W 147, l 88.09653408156443, a 6.7092814767513715, b 20.442156038579284\n",
      "H 139 : W 177, l 89.67303371554561, a 7.943216664619057, b 15.452611187247701\n",
      "H 135 : W 222, l 91.62829982634138, a 4.310766051135506, b 17.615487218143898\n",
      "H 133 : W 258, l 83.41282313683855, a 10.373287532712217, b 22.746032362538536\n",
      "H 145 : W 303, l 28.199205311918774, a 17.092476669212765, b 16.77503530749953\n",
      "H 149 : W 360, l 39.85547787917221, a -3.032065973417569, b 18.286571074782852\n",
      "H 128 : W 375, l 91.93764081588415, a 4.638246031357318, b 18.541912566531103\n",
      "H 172 : W 23, l 79.77520778675037, a 20.8953275019223, b 23.33631102173093\n",
      "H 171 : W 62, l 86.8607288735646, a 12.147156765061062, b 21.448800953156464\n",
      "H 175 : W 102, l 38.003683118296856, a -4.2070942608670165, b 15.712124153506757\n",
      "H 181 : W 141, l 27.1461097079047, a 7.40161430799377, b 11.934739577514787\n",
      "H 183 : W 184, l 30.981706637827415, a 17.636314481850047, b 17.813026448019542\n",
      "H 176 : W 221, l 31.015764941185978, a 14.38797738830372, b 16.362417660455918\n",
      "H 177 : W 262, l 28.25612904509483, a 17.39356325273983, b 18.105836567330012\n",
      "H 182 : W 315, l 44.05642897785644, a -7.470801679221095, b 3.1238140203468046\n",
      "H 184 : W 325, l 85.53011373544074, a 11.836386748973027, b 18.80285135101405\n",
      "H 173 : W 380, l 87.26509759547346, a 10.652264767659958, b 22.098613775165177\n",
      "H 217 : W 18, l 34.848639475652675, a -12.246838623464123, b 14.883982290751819\n",
      "H 220 : W 62, l 35.656718230231895, a -8.668189013115112, b 17.128245664894326\n",
      "H 214 : W 101, l 27.39034144371324, a 11.84329427150238, b 17.810396094486013\n",
      "H 215 : W 136, l 31.87194834484599, a 15.391751760928967, b 20.78725469234932\n",
      "H 225 : W 174, l 40.78777609118948, a -8.051675900987792, b 22.034630421254477\n",
      "H 229 : W 212, l 29.390708041557254, a 9.410758723469526, b 18.323318827819467\n",
      "H 214 : W 259, l 26.356192572069183, a 9.982863013706295, b 10.60246967055416\n",
      "H 211 : W 291, l 32.72369209671845, a 14.110291192581615, b 18.651676348810465\n",
      "H 220 : W 334, l 57.20397899847539, a 3.663016002650732, b 16.391612137513167\n",
      "H 219 : W 380, l 41.62715207288697, a -8.309191018212758, b -1.2302039600018633\n",
      "H 257 : W 19, l 36.74040860127393, a -15.878442112976316, b 17.882910658160522\n",
      "H 258 : W 62, l 39.96017789998178, a -16.96131053000874, b 19.438261230397746\n",
      "H 258 : W 103, l 41.25344283533031, a 9.060317852739308, b 19.67865978401855\n",
      "H 260 : W 132, l 23.909287635398414, a -10.271125512353347, b 15.830741376861312\n",
      "H 261 : W 174, l 36.13555428699196, a -10.43999773710247, b 18.625916909951034\n",
      "H 258 : W 237, l 37.01508415109903, a -17.55484406365279, b 19.957300672256984\n",
      "H 253 : W 253, l 25.9095693867841, a 6.170456987533324, b 11.99131370260973\n",
      "H 254 : W 288, l 48.0785069282969, a -14.466349028050551, b 22.385897994439286\n",
      "H 263 : W 330, l 29.65395423549902, a -12.868161756239061, b 19.292970663227614\n",
      "H 262 : W 372, l 36.17500798863437, a -4.513431319705136, b 14.212491251408842\n",
      "H 299 : W 19, l 29.72584724120435, a -12.750998904454052, b 17.454961719706564\n",
      "H 297 : W 57, l 35.81260800544708, a -18.40501286089788, b 20.339489107904207\n",
      "H 297 : W 95, l 30.55358268965019, a -13.93699691537506, b 19.953064080022244\n",
      "H 300 : W 140, l 30.93583292526884, a -15.658788381327282, b 19.461126607333902\n",
      "H 300 : W 185, l 34.01215014774834, a -10.721061974640511, b 18.464972081049645\n",
      "H 290 : W 219, l 24.333559854255995, a -2.638859310114844, b 6.7772054165311735\n",
      "H 293 : W 255, l 26.10079273568808, a 11.176626490499581, b 17.279533807930214\n",
      "H 296 : W 289, l 36.99630814615911, a -8.12568839567901, b 16.221294574461908\n",
      "H 298 : W 337, l 21.44744501001078, a -14.975459293637527, b 15.907254612568044\n",
      "H 298 : W 379, l 28.96916869998916, a -18.34439567422447, b 20.116539603695106\n",
      "H 341 : W 19, l 27.72158673637093, a -13.635219347074734, b 14.595076328610123\n",
      "H 337 : W 59, l 33.836097004250234, a -16.30771989449861, b 16.144629290300937\n",
      "H 340 : W 99, l 31.212129986218542, a -18.02440471271649, b 18.139173885275884\n",
      "H 340 : W 137, l 28.67708842173451, a -14.046968081736305, b 14.513941786273488\n",
      "H 341 : W 177, l 32.835075296574054, a -13.677926394324357, b 17.9003264808987\n",
      "H 339 : W 218, l 33.905492012485816, a -12.812704945055625, b 15.035966276571477\n",
      "H 332 : W 258, l 33.66445230897528, a -10.562422084049588, b 16.039249164260127\n",
      "H 340 : W 300, l 29.81021195416389, a -5.837316740115561, b 15.755954696469686\n",
      "H 337 : W 338, l 26.42256939027689, a -11.158855677452644, b 16.610962777431347\n",
      "H 340 : W 378, l 28.237879677746307, a -7.825274777414237, b 15.331037853256158\n",
      "H 381 : W 19, l 32.404098015155135, a -13.80042584283489, b 13.5131652751739\n",
      "H 379 : W 58, l 27.596367868124126, a -14.22511292466852, b 12.884960834973791\n",
      "H 380 : W 98, l 27.32993319635826, a -11.57128980873498, b 13.495587872266734\n",
      "H 379 : W 138, l 29.509978097292596, a -14.920707719849268, b 14.409987980395812\n",
      "H 381 : W 179, l 25.704299582720537, a -15.31123130084125, b 12.97905783504797\n",
      "H 381 : W 217, l 23.185788825214026, a -5.970272353030132, b 10.61423587228486\n",
      "H 378 : W 258, l 26.961238588699885, a -11.686372664525436, b 14.184836642312625\n",
      "H 381 : W 298, l 24.392929064838228, a -5.920010500847312, b 14.270056619449246\n",
      "H 377 : W 336, l 29.775508465303844, a -8.788873347264914, b 16.477010471907228\n",
      "H 379 : W 377, l 29.00886377553639, a -9.314278353383, b 13.605781225588887\n"
     ]
    }
   ],
   "source": [
    "for c in cluster:\n",
    "    print(\"H {} : W {}, l {}, a {}, b {}\".format(c.h,c.w,c.l,c.a,c.b))\n",
    "    "
   ]
  },
  {
   "cell_type": "code",
   "execution_count": null,
   "metadata": {},
   "outputs": [],
   "source": []
  }
 ],
 "metadata": {
  "kernelspec": {
   "display_name": "Python 3",
   "language": "python",
   "name": "python3"
  },
  "language_info": {
   "codemirror_mode": {
    "name": "ipython",
    "version": 3
   },
   "file_extension": ".py",
   "mimetype": "text/x-python",
   "name": "python",
   "nbconvert_exporter": "python",
   "pygments_lexer": "ipython3",
   "version": "3.8.5"
  }
 },
 "nbformat": 4,
 "nbformat_minor": 4
}
