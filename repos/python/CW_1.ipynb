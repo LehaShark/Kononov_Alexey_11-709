{
 "cells": [
  {
   "cell_type": "code",
   "execution_count": 7,
   "metadata": {},
   "outputs": [],
   "source": [
    "import numpy as np"
   ]
  },
  {
   "cell_type": "code",
   "execution_count": 8,
   "metadata": {},
   "outputs": [
    {
     "name": "stdout",
     "output_type": "stream",
     "text": [
      "[[1 7]\n",
      " [6 9]\n",
      " [8 4]\n",
      " [3 3]\n",
      " [2 3]]\n"
     ]
    },
    {
     "data": {
      "text/plain": [
       "array([1, 6, 8])"
      ]
     },
     "execution_count": 8,
     "metadata": {},
     "output_type": "execute_result"
    }
   ],
   "source": [
    "data = np.array([[1,7],[6,9],[8,4],[3,3],[2,3]])\n",
    "print(data)\n",
    "data.shape\n",
    "data[1,1]\n",
    "data[:3,0]"
   ]
  },
  {
   "cell_type": "code",
   "execution_count": 9,
   "metadata": {},
   "outputs": [
    {
     "data": {
      "image/png": "[encoded data removed]",
      "text/plain": [
       "<Figure size 432x288 with 1 Axes>"
      ]
     },
     "metadata": {
      "needs_background": "light"
     },
     "output_type": "display_data"
    }
   ],
   "source": [
    "import matplotlib.pyplot as plt\n",
    "\n",
    "fig = plt.figure()\n",
    "plt.scatter(1,2,c='red')\n",
    "plt.show()"
   ]
  },
  {
   "cell_type": "code",
   "execution_count": 10,
   "metadata": {},
   "outputs": [
    {
     "data": {
      "image/png": "[encoded data removed]",
      "text/plain": [
       "<Figure size 432x288 with 1 Axes>"
      ]
     },
     "metadata": {
      "needs_background": "light"
     },
     "output_type": "display_data"
    }
   ],
   "source": [
    "fig = plt.figure()\n",
    "plt.scatter(data[:,0],data[:,1],c=['red','green','blue','yellow','black'])\n",
    "plt.show()"
   ]
  },
  {
   "cell_type": "code",
   "execution_count": 17,
   "metadata": {},
   "outputs": [
    {
     "name": "stdout",
     "output_type": "stream",
     "text": [
      "pygame 1.9.6\n",
      "Hello from the pygame community. https://www.pygame.org/contribute.html\n"
     ]
    }
   ],
   "source": [
    "import pygame\n",
    "\n",
    "bg_color = (255,255,255)\n",
    "(width,height) = (640,480)\n",
    "screen = pygame.display.set_mode((width,height))\n",
    "pygame.display.set_caption('TEST')\n",
    "\n",
    "running = True\n",
    "while running:\n",
    "    for event in pygame.event.get():\n",
    "        if event.type == pygame.QUIT:\n",
    "            running = False\n",
    "            \n",
    "    screen.fill(bg_color)\n",
    "    pygame.display.flip()\n",
    "    \n",
    "pygame.quit()"
   ]
  },
  {
   "cell_type": "code",
   "execution_count": 18,
   "metadata": {},
   "outputs": [],
   "source": [
    "import pygame\n",
    "\n",
    "bg_color = (255,255,255)\n",
    "(width,height) = (640,480)\n",
    "screen = pygame.display.set_mode((width,height))\n",
    "pygame.display.set_caption('TEST')\n",
    "\n",
    "running = True\n",
    "while running:\n",
    "    for event in pygame.event.get():\n",
    "        if event.type == pygame.QUIT:\n",
    "            running = False\n",
    "            \n",
    "    screen.fill(bg_color)\n",
    "    for point in data:\n",
    "        pygame.draw.circle(screen, (0,0,0), (int(point[0])*40,int(point[1])*40), 20, 0)\n",
    "    pygame.display.flip()\n",
    "    \n",
    "pygame.quit()"
   ]
  },
  {
   "cell_type": "code",
   "execution_count": 19,
   "metadata": {},
   "outputs": [],
   "source": [
    "import pygame\n",
    "\n",
    "data = np.empty((0,2), dtype='f')\n",
    "\n",
    "def createData(position):\n",
    "    (x,y) = position\n",
    "    coord = [x, y]\n",
    "    global data\n",
    "    data = np.append(data, [coord], axis=0)\n",
    "    \n",
    "radius = 2\n",
    "color = (0,0,255)\n",
    "thickness = 0\n",
    "    \n",
    "bg_color = (255,255,255)\n",
    "(width,height) = (640,480)\n",
    "screen = pygame.display.set_mode((width,height))\n",
    "pygame.display.set_caption('dataGenerator')\n",
    "\n",
    "running = True\n",
    "pushing = False\n",
    "while running:\n",
    "    for event in pygame.event.get():\n",
    "        if event.type == pygame.QUIT:\n",
    "            running = False\n",
    "        elif event.type == pygame.MOUSEBUTTONDOWN:\n",
    "            pushing = True\n",
    "        elif event.type == pygame.MOUSEBUTTONUP:\n",
    "            pushing = False\n",
    "            \n",
    "    if pushing:\n",
    "        createData(pygame.mouse.get_pos())\n",
    "    \n",
    "    screen.fill(bg_color)\n",
    "    for point in data:\n",
    "        pygame.draw.circle(screen, color, (int(point[0]),int(point[1])), radius, thickness)\n",
    "    pygame.display.flip()\n",
    "    \n",
    "pygame.quit()"
   ]
  },
  {
   "cell_type": "code",
   "execution_count": 20,
   "metadata": {},
   "outputs": [],
   "source": [
    "import pygame\n",
    "\n",
    "data = np.empty((0,2), dtype='f')\n",
    "\n",
    "def createData(position):\n",
    "    (x,y) = position\n",
    "    r = np.random.uniform(0,30)\n",
    "    phi = np.random.uniform(0,2*np.pi)\n",
    "    coord = [x + r*np.cos(phi), y + r*np.sin(phi)]\n",
    "    global data\n",
    "    data = np.append(data, [coord], axis=0)\n",
    "    \n",
    "radius = 2\n",
    "color = (0,0,255)\n",
    "thickness = 0\n",
    "    \n",
    "bg_color = (255,255,255)\n",
    "(width,height) = (640,480)\n",
    "screen = pygame.display.set_mode((width,height))\n",
    "pygame.display.set_caption('dataGenerator')\n",
    "\n",
    "running = True\n",
    "pushing = False\n",
    "while running:\n",
    "    for event in pygame.event.get():\n",
    "        if event.type == pygame.QUIT:\n",
    "            running = False\n",
    "        elif event.type == pygame.MOUSEBUTTONDOWN:\n",
    "            pushing = True\n",
    "        elif event.type == pygame.MOUSEBUTTONUP:\n",
    "            pushing = False\n",
    "            \n",
    "    if pushing:\n",
    "        createData(pygame.mouse.get_pos())\n",
    "    \n",
    "    screen.fill(bg_color)\n",
    "    for point in data:\n",
    "        pygame.draw.circle(screen, color, (int(point[0]),int(point[1])), radius, thickness)\n",
    "    pygame.display.flip()\n",
    "    \n",
    "pygame.quit()"
   ]
  },
  {
   "cell_type": "code",
   "execution_count": null,
   "metadata": {},
   "outputs": [],
   "source": []
  },
  {
   "cell_type": "code",
   "execution_count": 2,
   "metadata": {},
   "outputs": [
    {
     "name": "stdout",
     "output_type": "stream",
     "text": [
      "pygame 1.9.6\n",
      "Hello from the pygame community. https://www.pygame.org/contribute.html\n"
     ]
    }
   ],
   "source": [
    "import pygame\n",
    "import numpy as np\n",
    "\n",
    "data = np.empty((0,2), dtype='f')\n",
    "\n",
    "radius = 2\n",
    "color = [(255, 0, 0), (0, 255, 0), (0, 0, 255)]\n",
    "thickness = 0\n",
    "\n",
    "def createData(position):\n",
    "    (x,y) = position\n",
    "    r = np.random.uniform(0,30)\n",
    "    phi = np.random.uniform(0,2*np.pi)\n",
    "    coord = [x + r*np.cos(phi), y + r*np.sin(phi)]\n",
    "    global data\n",
    "    data = np.append(data, [coord], axis=0)\n",
    "    \n",
    "    \n",
    "bg_color = (255,255,255)\n",
    "(width,height) = (640,480)\n",
    "screen = pygame.display.set_mode((width,height))\n",
    "pygame.display.set_caption('dataGenerator')\n",
    "\n",
    "running = True\n",
    "pushing = False\n",
    "while running:\n",
    "    for event in pygame.event.get():\n",
    "        if event.type == pygame.QUIT:\n",
    "            running = False\n",
    "        elif event.type == pygame.MOUSEBUTTONDOWN:\n",
    "            pushing = True\n",
    "        elif event.type == pygame.MOUSEBUTTONUP:\n",
    "            pushing = False  \n",
    "        elif event.type == pygame.KEYDOWN:\n",
    "            if event.key == pygame.K_LEFT:\n",
    "                color = (255,0,0)\n",
    "            elif event.key == pygame.K_RIGHT:\n",
    "                color = (0,255,0)\n",
    "            elif event.key == pygame.K_DOWN:\n",
    "                color = (0,0,255)\n",
    "            \n",
    "    if pushing:\n",
    "        createData(pygame.mouse.get_pos())\n",
    "    \n",
    "    screen.fill(bg_color)\n",
    "    for point in data:\n",
    "        pygame.draw.circle(screen, color[0], (int(point[0]),int(point[1])), radius, thickness)\n",
    "    pygame.display.flip()\n",
    "    \n",
    "pygame.quit()"
   ]
  },
  {
   "cell_type": "code",
   "execution_count": 1,
   "metadata": {},
   "outputs": [
    {
     "ename": "NameError",
     "evalue": "name 'np' is not defined",
     "output_type": "error",
     "traceback": [
      "\u001b[1;31m---------------------------------------------------------------------------\u001b[0m",
      "\u001b[1;31mNameError\u001b[0m                                 Traceback (most recent call last)",
      "\u001b[1;32m<ipython-input-1-9936b10911ba>\u001b[0m in \u001b[0;36m<module>\u001b[1;34m\u001b[0m\n\u001b[1;32m----> 1\u001b[1;33m \u001b[0mdata\u001b[0m \u001b[1;33m=\u001b[0m \u001b[0mnp\u001b[0m\u001b[1;33m.\u001b[0m\u001b[0mempty\u001b[0m\u001b[1;33m(\u001b[0m\u001b[1;33m(\u001b[0m\u001b[1;36m0\u001b[0m\u001b[1;33m,\u001b[0m\u001b[1;36m2\u001b[0m\u001b[1;33m)\u001b[0m\u001b[1;33m,\u001b[0m \u001b[0mdtype\u001b[0m\u001b[1;33m=\u001b[0m\u001b[1;34m'f'\u001b[0m\u001b[1;33m)\u001b[0m\u001b[1;33m\u001b[0m\u001b[1;33m\u001b[0m\u001b[0m\n\u001b[0m\u001b[0;32m      2\u001b[0m \u001b[1;33m\u001b[0m\u001b[0m\n\u001b[0;32m      3\u001b[0m \u001b[1;32mdef\u001b[0m \u001b[0mcreateData\u001b[0m\u001b[1;33m(\u001b[0m\u001b[0mposition\u001b[0m\u001b[1;33m)\u001b[0m\u001b[1;33m:\u001b[0m\u001b[1;33m\u001b[0m\u001b[1;33m\u001b[0m\u001b[0m\n\u001b[0;32m      4\u001b[0m     \u001b[1;33m(\u001b[0m\u001b[0mx\u001b[0m\u001b[1;33m,\u001b[0m\u001b[0my\u001b[0m\u001b[1;33m)\u001b[0m \u001b[1;33m=\u001b[0m \u001b[0mposition\u001b[0m\u001b[1;33m\u001b[0m\u001b[1;33m\u001b[0m\u001b[0m\n\u001b[0;32m      5\u001b[0m     \u001b[0mr\u001b[0m \u001b[1;33m=\u001b[0m \u001b[0mnp\u001b[0m\u001b[1;33m.\u001b[0m\u001b[0mrandom\u001b[0m\u001b[1;33m.\u001b[0m\u001b[0muniform\u001b[0m\u001b[1;33m(\u001b[0m\u001b[1;36m0\u001b[0m\u001b[1;33m,\u001b[0m\u001b[1;36m30\u001b[0m\u001b[1;33m)\u001b[0m\u001b[1;33m\u001b[0m\u001b[1;33m\u001b[0m\u001b[0m\n",
      "\u001b[1;31mNameError\u001b[0m: name 'np' is not defined"
     ]
    }
   ],
   "source": [
    "data = np.empty((0,2), dtype='f')\n",
    "\n",
    "def createData(position):\n",
    "    (x,y) = position\n",
    "    r = np.random.uniform(0,30)\n",
    "    phi = np.random.uniform(0,2*np.pi)\n",
    "    coord = [x + r*np.cos(phi), y + r*np.sin(phi)]\n",
    "    global data\n",
    "    data = np.append(data, [coord], axis=0)\n",
    "    \n",
    "radius = 2\n",
    "color = (0,0,255)\n",
    "color1 = (0,255,0)\n",
    "color2 = (255,0,0)\n",
    "thickness = 0\n",
    "    \n",
    "bg_color = (255,255,255)\n",
    "(width,height) = (640,480)\n",
    "screen = pygame.display.set_mode((width,height))\n",
    "pygame.display.set_caption('dataGenerator')\n",
    "\n",
    "running = True\n",
    "pushing = False\n",
    "while running:\n",
    "    for event in pygame.event.get():\n",
    "        if event.type == pygame.QUIT:\n",
    "            running = False\n",
    "        elif event.type == pygame.MOUSEBUTTONDOWN:\n",
    "            pushing = True\n",
    "        elif event.type == pygame.MOUSEBUTTONUP:\n",
    "            pushing = False\n",
    "    if pushing:\n",
    "        createData(pygame.mouse.get_pos())\n",
    "    \n",
    "    screen.fill(bg_color)\n",
    "    for point in data:\n",
    "        if event.type == pygame.KEYDOWN:\n",
    "            if event.key == pygame.K_LEFT:\n",
    "                pygame.draw.circle(screen, color, (int(point[0]),int(point[1])), radius, thickness)\n",
    "            elif event.key == pygame.K_RIGHT:\n",
    "                pygame.draw.circle(screen, color1, (int(point[0]),int(point[1])), radius, thickness)\n",
    "            elif event.key == pygame.K_DOWN:\n",
    "                pygame.draw.circle(screen, color2, (int(point[0]),int(point[1])), radius, thickness)\n",
    "    pygame.display.flip()\n",
    "    \n",
    "pygame.quit()"
   ]
  },
  {
   "cell_type": "code",
   "execution_count": null,
   "metadata": {
    "scrolled": true
   },
   "outputs": [],
   "source": []
  },
  {
   "cell_type": "code",
   "execution_count": null,
   "metadata": {},
   "outputs": [],
   "source": []
  },
  {
   "cell_type": "code",
   "execution_count": 2,
   "metadata": {},
   "outputs": [],
   "source": [
    "import pygame\n",
    "import numpy as np\n",
    "\n",
    "data = np.empty((0,3), dtype='f')\n",
    "\n",
    "radius = 2\n",
    "color = [(255, 0, 0), (0, 255, 0), (0, 0, 255)]\n",
    "thickness = 0\n",
    "color_index = 0\n",
    "\n",
    "def createData(position):\n",
    "    (x,y) = position\n",
    "    r = np.random.uniform(0,30)\n",
    "    phi = np.random.uniform(0,2*np.pi)\n",
    "    point = [x + r*np.cos(phi), y + r*np.sin(phi), color_index]\n",
    "    global data\n",
    "    data = np.append(data, [point], axis=0)\n",
    "    \n",
    "    \n",
    "bg_color = (255,255,255)\n",
    "(width,height) = (640,480)\n",
    "screen = pygame.display.set_mode((width,height))\n",
    "pygame.display.set_caption('dataGenerator')\n",
    "\n",
    "running = True\n",
    "pushing = False\n",
    "while running:\n",
    "    for event in pygame.event.get():\n",
    "        if event.type == pygame.QUIT:\n",
    "            running = False\n",
    "        elif event.type == pygame.MOUSEBUTTONDOWN:\n",
    "            pushing = True\n",
    "        elif event.type == pygame.MOUSEBUTTONUP:\n",
    "            pushing = False  \n",
    "        elif event.type == pygame.KEYDOWN:\n",
    "            if event.key == pygame.K_LEFT:\n",
    "                color_index = 0\n",
    "            elif event.key == pygame.K_RIGHT:\n",
    "                color_index = 1\n",
    "            elif event.key == pygame.K_DOWN:\n",
    "                color_index = 2\n",
    "            \n",
    "    if pushing:\n",
    "        createData(pygame.mouse.get_pos())\n",
    "    \n",
    "    screen.fill(bg_color)\n",
    "    for point in data:\n",
    "        pygame.draw.circle(screen, color[int(point[2])], (int(point[0]),int(point[1])), radius, thickness)\n",
    "    pygame.display.flip()\n",
    "    \n",
    "pygame.quit()"
   ]
  },
  {
   "cell_type": "code",
   "execution_count": null,
   "metadata": {},
   "outputs": [],
   "source": []
  },
  {
   "cell_type": "code",
   "execution_count": null,
   "metadata": {},
   "outputs": [],
   "source": []
  },
  {
   "cell_type": "code",
   "execution_count": null,
   "metadata": {},
   "outputs": [],
   "source": []
  }
 ],
 "metadata": {
  "kernelspec": {
   "display_name": "Python 3",
   "language": "python",
   "name": "python3"
  },
  "language_info": {
   "codemirror_mode": {
    "name": "ipython",
    "version": 3
   },
   "file_extension": ".py",
   "mimetype": "text/x-python",
   "name": "python",
   "nbconvert_exporter": "python",
   "pygments_lexer": "ipython3",
   "version": "3.8.5"
  }
 },
 "nbformat": 4,
 "nbformat_minor": 2
}
