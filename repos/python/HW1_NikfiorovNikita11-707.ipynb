{
 "cells": [
  {
   "cell_type": "code",
   "execution_count": 1,
   "metadata": {},
   "outputs": [
    {
     "name": "stdout",
     "output_type": "stream",
     "text": [
      "pygame 1.9.6\n",
      "Hello from the pygame community. https://www.pygame.org/contribute.html\n",
      "Нажмите \"1, 2, 3 или 4\" для выбора цвета.\n"
     ]
    }
   ],
   "source": [
    "import numpy as np\n",
    "\n",
    "import pygame\n",
    "\n",
    "data = np.empty((0,5), dtype='f')\n",
    "\n",
    "def createData(position, color):\n",
    "    (x,y) = position\n",
    "    r = np.random.uniform(0,30)\n",
    "    phi = np.random.uniform(0, 2*np.pi)\n",
    "    coord = [x+r*np.cos(phi),y+r*np.sin(phi)]\n",
    "    global data\n",
    "    data = np.append(data, [np.hstack((coord, color))],axis=0)\n",
    "radius = 2\n",
    "color = (255,255,255)\n",
    "thickness = 0\n",
    "bg_color=(190,190,190)\n",
    "(width,height)=(640,480)\n",
    "screen = pygame.display.set_mode((width, height))\n",
    "pygame.display.set_caption('dataGenerator')\n",
    "\n",
    "running = True\n",
    "pushing = False\n",
    "print('Нажмите \"1, 2, 3 или 4\" для выбора цвета.')\n",
    "while running:\n",
    "    for event in pygame.event.get():\n",
    "        if event.type == pygame.QUIT:\n",
    "            running = False\n",
    "        elif event.type == pygame.KEYDOWN:\n",
    "            if event.key == pygame.K_1:\n",
    "                color = (0, 0, 255)\n",
    "            elif event.key == pygame.K_2:\n",
    "                color = (255, 0, 0)\n",
    "            elif event.key == pygame.K_3:\n",
    "                color = (0, 255, 0)\n",
    "            elif event.key == pygame.K_4:\n",
    "                color = (255, 255, 255)\n",
    "        elif event.type == pygame.MOUSEBUTTONDOWN:\n",
    "            pushing = True\n",
    "        elif event.type == pygame.MOUSEBUTTONUP:\n",
    "            pushing = False\n",
    "    if pushing:\n",
    "        createData(pygame.mouse.get_pos(), color)\n",
    "    screen.fill(bg_color)\n",
    "    for point in data:\n",
    "        pygame.draw.circle(screen, point[2:], (int(point[0]), int(point[1])), radius, thickness)\n",
    "    pygame.display.flip()\n",
    "    \n",
    "pygame.quit()"
   ]
  },
  {
   "cell_type": "code",
   "execution_count": null,
   "metadata": {},
   "outputs": [],
   "source": []
  }
 ],
 "metadata": {
  "kernelspec": {
   "display_name": "Python 3",
   "language": "python",
   "name": "python3"
  },
  "language_info": {
   "codemirror_mode": {
    "name": "ipython",
    "version": 3
   },
   "file_extension": ".py",
   "mimetype": "text/x-python",
   "name": "python",
   "nbconvert_exporter": "python",
   "pygments_lexer": "ipython3",
   "version": "3.8.5"
  }
 },
 "nbformat": 4,
 "nbformat_minor": 4
}
